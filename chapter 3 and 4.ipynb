{
  "nbformat": 4,
  "nbformat_minor": 0,
  "metadata": {
    "colab": {
      "provenance": []
    },
    "kernelspec": {
      "name": "python3",
      "display_name": "Python 3"
    },
    "language_info": {
      "name": "python"
    }
  },
  "cells": [
    {
      "cell_type": "markdown",
      "source": [
        "# Excersice 3.4"
      ],
      "metadata": {
        "id": "PnkoT0YtGkSg"
      }
    },
    {
      "cell_type": "code",
      "source": [
        "guests_Kamran = [\"Kamran\", \"Waleed\", \"Ali\"];\n",
        "print(\"Hi \"+guests_Kamran[0]+\", \"+guests_Kamran[1]+\", \"+guests_Kamran[2]+\", You all are invited for Dinner at Ramada on coming Sunday.\")"
      ],
      "metadata": {
        "colab": {
          "base_uri": "https://localhost:8080/"
        },
        "id": "JByBChT6GR5y",
        "outputId": "5652df77-fe4c-47eb-bd96-a954c281f85b"
      },
      "execution_count": 1,
      "outputs": [
        {
          "output_type": "stream",
          "name": "stdout",
          "text": [
            "Hi Kamran, Waleed, Ali, You all are invited for Dinner at Ramada on coming Sunday.\n"
          ]
        }
      ]
    },
    {
      "cell_type": "markdown",
      "source": [
        "# Excersice 3.5"
      ],
      "metadata": {
        "id": "O_ts4ArxGcgf"
      }
    },
    {
      "cell_type": "code",
      "source": [
        "guests_Kamran = [\"Kamran\", \"Shehroz\", \"Ali\"];\n",
        "print(guests_Kamran[1]+\" Will not be able to join us for Dinner.\")\n",
        "\n",
        "guests_Kamran[1] = 'Usama';\n",
        "print(\"Hi \"+guests_Kamran[0]+\", You are invited for Dinner at Belmoris.\")\n",
        "print(\"Hi \"+guests_Kamran[1]+\", You are invited for Dinner at Belmoris\")\n",
        "print(\"Hi \"+guests_Kamran[2]+\", You are invited for Dinner at Belmoris\")"
      ],
      "metadata": {
        "colab": {
          "base_uri": "https://localhost:8080/"
        },
        "id": "X-gWiCJVGoHA",
        "outputId": "b87a85af-8fbb-4806-a97a-eb20e49eb0be"
      },
      "execution_count": 2,
      "outputs": [
        {
          "output_type": "stream",
          "name": "stdout",
          "text": [
            "Shehroz Will not be able to join us for Dinner.\n",
            "Hi Kamran, You are invited for Dinner at Belmoris.\n",
            "Hi Usama, You are invited for Dinner at Belmoris\n",
            "Hi Ali, You are invited for Dinner at Belmoris\n"
          ]
        }
      ]
    },
    {
      "cell_type": "markdown",
      "source": [
        "## Excersice 3.6"
      ],
      "metadata": {
        "id": "5uh2z9F8GwlY"
      }
    },
    {
      "cell_type": "code",
      "source": [
        "guests_Kamran = [\"Kamran\", \"Shehroz\", \"Ali\"];\n",
        "guests_Kamran.insert(0, \"Mohsin\");\n",
        "guests_Kamran.insert(2, \"Arslan\");\n",
        "guests_Kamran.append(\"Ahmad\");\n",
        "\n",
        "print(\"I am erally sorry I can invite only two people\")\n",
        "removed1 = guests_Kamran.pop(0)\n",
        "print(\"Hi \"+removed1+\", Sorry I can't invite you to dinner\")\n",
        "removed2 = guests_Kamran.pop(0)\n",
        "print(\"Hi \"+removed2+\", Sorry I can't invite you to dinner\")\n",
        "removed3 = guests_Kamran.pop(0)\n",
        "print(\"Hi \"+removed3+\", Sorry I can't invite you to dinner\")\n",
        "removed4 = guests_Kamran.pop(0)\n",
        "print(\"Hi \"+removed4+\", Sorry I can't invite you to dinner\")\n",
        "print(\"Hi \"+guests_Kamran[0]+\", You are still invited for the Dinner\")\n",
        "print(\"Hi \"+guests_Kamran[1]+\", You are still invited for the Dinner\")\n",
        "\n",
        "del guests_Kamran[0]\n",
        "del guests_Kamran[0]\n",
        "print(guests_Kamran)"
      ],
      "metadata": {
        "colab": {
          "base_uri": "https://localhost:8080/"
        },
        "id": "0zKsk0GJHAUP",
        "outputId": "d33d7b8f-a642-4901-de4a-cf829486cc04"
      },
      "execution_count": 3,
      "outputs": [
        {
          "output_type": "stream",
          "name": "stdout",
          "text": [
            "I am erally sorry I can invite only two people\n",
            "Hi Mohsin, Sorry I can't invite you to dinner\n",
            "Hi Kamran, Sorry I can't invite you to dinner\n",
            "Hi Arslan, Sorry I can't invite you to dinner\n",
            "Hi Shehroz, Sorry I can't invite you to dinner\n",
            "Hi Ali, You are still invited for the Dinner\n",
            "Hi Ahmad, You are still invited for the Dinner\n",
            "[]\n"
          ]
        }
      ]
    },
    {
      "cell_type": "markdown",
      "source": [
        "# Chapter **4**"
      ],
      "metadata": {
        "id": "M1Xjf7-pHLVw"
      }
    },
    {
      "cell_type": "markdown",
      "source": [
        "# 4.1. "
      ],
      "metadata": {
        "id": "JDqOtFIJHYjf"
      }
    },
    {
      "cell_type": "code",
      "source": [
        "pizza_list_Kamran = ['Chilli', 'Margherita', 'Hawaiian']\n",
        "for pizza in pizza_list_Kamran:\n",
        "  print(\"I Like \"+pizza+\" Pizza it's amazing.\")\n",
        "print(\"I love to eat pizza with ketchup, especially with friends.\")"
      ],
      "metadata": {
        "colab": {
          "base_uri": "https://localhost:8080/"
        },
        "id": "POJrJavIHilY",
        "outputId": "2dd661f4-b34f-4fd3-cecc-a7e9ceeabe27"
      },
      "execution_count": 4,
      "outputs": [
        {
          "output_type": "stream",
          "name": "stdout",
          "text": [
            "I Like Chilli Pizza it's amazing.\n",
            "I Like Margherita Pizza it's amazing.\n",
            "I Like Hawaiian Pizza it's amazing.\n",
            "I love to eat pizza with ketchup, especially with friends.\n"
          ]
        }
      ]
    },
    {
      "cell_type": "markdown",
      "source": [
        "# 4.2."
      ],
      "metadata": {
        "id": "Yu_7bIpYHuQW"
      }
    },
    {
      "cell_type": "code",
      "source": [
        "pet_list_Kamran = [\"cat\", \"dog\", \"horse\"]\n",
        "\n",
        "for pet in pet_list_Kamran:\n",
        "  print(\"A \"+pet.title()+\" would make a great pet.\")\n",
        "print(\"\\nAny of these animals would make a great pet!\")"
      ],
      "metadata": {
        "colab": {
          "base_uri": "https://localhost:8080/"
        },
        "id": "5CTmJ4_FH5F-",
        "outputId": "769b10de-5caf-4f36-f6a2-a8e2c2ba3ed2"
      },
      "execution_count": 5,
      "outputs": [
        {
          "output_type": "stream",
          "name": "stdout",
          "text": [
            "A Cat would make a great pet.\n",
            "A Dog would make a great pet.\n",
            "A Horse would make a great pet.\n",
            "\n",
            "Any of these animals would make a great pet!\n"
          ]
        }
      ]
    }
  ]
}