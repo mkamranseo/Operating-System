{
  "nbformat": 4,
  "nbformat_minor": 0,
  "metadata": {
    "colab": {
      "provenance": []
    },
    "kernelspec": {
      "name": "python3",
      "display_name": "Python 3"
    },
    "language_info": {
      "name": "python"
    }
  },
  "cells": [
    {
      "cell_type": "markdown",
      "source": [
        "# 7.11"
      ],
      "metadata": {
        "id": "_sdYSq1QtA_B"
      }
    },
    {
      "cell_type": "code",
      "source": [
        "pizza_kamran=['tikka Pizza','Siclian Pizza','Greek Pizza','Shahi Pizza']\n",
        "friend_pizza_kamran=pizza_kamran[:]\n",
        "print(\"My Favorite pizzas are:\")\n",
        "for pizzas in pizza_kamran: print(pizzas)\n",
        "print(\"\\nMy friend's Favorite pizzas are:\")\n",
        "for friend_pizzas in friend_pizza_kamran: print(friend_pizzas)"
      ],
      "metadata": {
        "colab": {
          "base_uri": "https://localhost:8080/"
        },
        "id": "rFjrZqgptHWd",
        "outputId": "8aaeeffe-70a4-4f99-ce8d-07c0d3694934"
      },
      "execution_count": 2,
      "outputs": [
        {
          "output_type": "stream",
          "name": "stdout",
          "text": [
            "My Favorite pizzas are:\n",
            "tikka Pizza\n",
            "Siclian Pizza\n",
            "Greek Pizza\n",
            "Shahi Pizza\n",
            "\n",
            "My friend's Favorite pizzas are:\n",
            "tikka Pizza\n",
            "Siclian Pizza\n",
            "Greek Pizza\n",
            "Shahi Pizza\n"
          ]
        }
      ]
    },
    {
      "cell_type": "markdown",
      "source": [
        "# **4.13**"
      ],
      "metadata": {
        "id": "upNJ4c8tvm6L"
      }
    },
    {
      "cell_type": "code",
      "source": [
        "buffet_kamran=('Mutton','Chicken','rice','kabab','fish') \n",
        "print(\"Our Resturant Offers following Foods:\")\n",
        "for foods in buffet_kamran:print(foods)\n",
        "\n",
        "buffet_kamran=('Mutton','Chicken','rice','kabab','fish','Tikka Boti') \n",
        "print(\"Our Resturant Offers following Foods after adding new items:\") \n",
        "for foods in buffet_kamran:\n",
        "    print(foods)"
      ],
      "metadata": {
        "colab": {
          "base_uri": "https://localhost:8080/"
        },
        "id": "WhZRRrQQvvQH",
        "outputId": "6037e112-5743-46b9-e52a-b07f1871c259"
      },
      "execution_count": 7,
      "outputs": [
        {
          "output_type": "stream",
          "name": "stdout",
          "text": [
            "Our Resturant Offers following Foods:\n",
            "Mutton\n",
            "Chicken\n",
            "rice\n",
            "kabab\n",
            "fish\n",
            "Our Resturant Offers following Foods after adding new items:\n",
            "Mutton\n",
            "Chicken\n",
            "rice\n",
            "kabab\n",
            "fish\n",
            "Tikka Boti\n"
          ]
        }
      ]
    },
    {
      "cell_type": "markdown",
      "source": [
        "# 5.2"
      ],
      "metadata": {
        "id": "J5LTXNqkx8pz"
      }
    },
    {
      "cell_type": "code",
      "source": [
        "#p1\n",
        "cell_kamran=\"OPPOA5S\" \n",
        "print(cell_kamran=='Nokia') \n",
        "print(cell_kamran=='OPPOA5S') \n",
        "print(cell_kamran!='Nokia') \n",
        "print(cell_kamran!='OPPOA5S')\n",
        "\n",
        "# Part 2 \n",
        "# Test using the Lower function \n",
        "print(\"\\n\") \n",
        "print(cell_kamran.lower()=='OPPOA5S') \n",
        "print(cell_kamran.lower()=='OPPOA5S')\n",
        "\n",
        "# Part 3 \n",
        "print(\"\\n\") \n",
        "bee_kamran=15\n",
        "print(bee_kamran==10) # Equality \n",
        "print(bee_kamran!=10) # Non Equality \n",
        "print(bee_kamran>15) # Greater then \n",
        "print(bee_kamran<15) # Less then \n",
        "print(bee_kamran>=10) #Greater then equal to \n",
        "print(bee_kamran<=15) # less then equal to\n",
        "\n",
        "#Part 4 \n",
        "print(\"\\n\") \n",
        "age_kamran=27 \n",
        "height_kamran=5.7\n",
        "print(age_kamran>30 and height_kamran>=5.6) \n",
        "print(age_kamran>30 or height_kamran>=5.6)\n",
        "\n",
        "# Part 5\n",
        " \n",
        "print(\"\\n\") \n",
        "list_kamran=[30,25,56,580,582,100] \n",
        "item_kamran=990\n",
        "for item in list_kamran:\n",
        "    if(item_kamran==item): item_kamran=True\n",
        "if(item_kamran==True):\n",
        "    print(\"Item is Available in the list\")\n",
        "else:\n",
        "    print(\"Item is Not available in the list\")"
      ],
      "metadata": {
        "colab": {
          "base_uri": "https://localhost:8080/"
        },
        "id": "preWCD0cyBdF",
        "outputId": "857f497c-fde8-4d92-b15e-fd78b167d88a"
      },
      "execution_count": 9,
      "outputs": [
        {
          "output_type": "stream",
          "name": "stdout",
          "text": [
            "False\n",
            "True\n",
            "True\n",
            "False\n",
            "\n",
            "\n",
            "False\n",
            "False\n",
            "\n",
            "\n",
            "False\n",
            "True\n",
            "False\n",
            "False\n",
            "True\n",
            "True\n",
            "\n",
            "\n",
            "False\n",
            "True\n",
            "\n",
            "\n",
            "Item is Not available in the list\n"
          ]
        }
      ]
    },
    {
      "cell_type": "markdown",
      "source": [
        "6.3"
      ],
      "metadata": {
        "id": "nD94JMHYzHnf"
      }
    },
    {
      "cell_type": "code",
      "source": [
        "glossary_kamran={\n",
        "'Variable':'Named memory locations', \n",
        "'List':'data structure to store group of items',\n",
        " \n",
        "'Python':'A high level Programing Language', \n",
        "'if':'conditional Statement',\n",
        "'Loops':'Repeatedly executes statement or block of statements'\n",
        "}\n",
        "for key, value in glossary_kamran.items(): \n",
        "    print(key+\":\\t\"+value)"
      ],
      "metadata": {
        "colab": {
          "base_uri": "https://localhost:8080/"
        },
        "id": "SAG5g6zRzJQG",
        "outputId": "678590e8-6d94-457c-e50b-47a1212899d3"
      },
      "execution_count": 10,
      "outputs": [
        {
          "output_type": "stream",
          "name": "stdout",
          "text": [
            "Variable:\tNamed memory locations\n",
            "List:\tdata structure to store group of items\n",
            "Python:\tA high level Programing Language\n",
            "if:\tconditional Statement\n",
            "Loops:\tRepeatedly executes statement or block of statements\n"
          ]
        }
      ]
    },
    {
      "cell_type": "markdown",
      "source": [
        "# 6.11"
      ],
      "metadata": {
        "id": "HOgoGtWtzh4K"
      }
    },
    {
      "cell_type": "code",
      "source": [
        "cities_kamran={ 'Lahore':{\n",
        "'Country':'Pakistan', 'Population':'11.13 Million', 'Fact':'Biggest city of the region'\n",
        "},\n",
        "'New York':{\n",
        "'Country':'United States', 'Population':'8.468 Million',\n",
        "'Fact':'About 22 percent of New York City\\'s land is used for public parks '\n",
        "},\n",
        "'Mumbai':{\n",
        "'Country':'India', 'Population':'20.96 Million',\n",
        "'Fact':'Mumbai was earlier called as Bombay'\n",
        "}\n",
        "}\n",
        "for cities,info in cities_kamran.items(): \n",
        "    print(\"\\nCity Name: \"+cities) \n",
        "    print(\"\\tContry: \"+info['Country']) \n",
        "    print(\"\\tPopulation: \"+info['Population']) \n",
        "    print(\"\\tFact: \"+info['Fact'])"
      ],
      "metadata": {
        "colab": {
          "base_uri": "https://localhost:8080/"
        },
        "id": "ixAXg-KazmSf",
        "outputId": "e9b646d5-0f6c-4254-f02c-ebbfef907dab"
      },
      "execution_count": 11,
      "outputs": [
        {
          "output_type": "stream",
          "name": "stdout",
          "text": [
            "\n",
            "City Name: Lahore\n",
            "\tContry: Pakistan\n",
            "\tPopulation: 11.13 Million\n",
            "\tFact: Biggest city of the region\n",
            "\n",
            "City Name: New York\n",
            "\tContry: United States\n",
            "\tPopulation: 8.468 Million\n",
            "\tFact: About 22 percent of New York City's land is used for public parks \n",
            "\n",
            "City Name: Mumbai\n",
            "\tContry: India\n",
            "\tPopulation: 20.96 Million\n",
            "\tFact: Mumbai was earlier called as Bombay\n"
          ]
        }
      ]
    }
  ]
}